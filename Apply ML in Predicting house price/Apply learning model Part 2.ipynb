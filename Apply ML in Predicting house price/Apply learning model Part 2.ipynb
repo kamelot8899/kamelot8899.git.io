{
 "cells": [
  {
   "cell_type": "markdown",
   "id": "6ab03466",
   "metadata": {},
   "source": [
    "# Apply ML in Predict house price in Real Estate dataset P2\n",
    "* Name: Ha Ngo\n",
    "* Email: nvh1211@gmail.com\n",
    "* Date: 06/06/2024"
   ]
  },
  {
   "cell_type": "markdown",
   "id": "32694dd5",
   "metadata": {},
   "source": [
    "## Task 3 – Extension"
   ]
  },
  {
   "cell_type": "markdown",
   "id": "31881253",
   "metadata": {},
   "source": [
    "In this task, I will apply 2 other different learning algorithms for modelling the Real estate valuation data set in order to compare their performance with the 2 algorithms apllied in Task 1. Decision Tree and Gradient Boosting regressor algorithms will be applied."
   ]
  },
  {
   "cell_type": "code",
   "execution_count": 1,
   "id": "d7d55917",
   "metadata": {},
   "outputs": [
    {
     "data": {
      "text/html": [
       "<div>\n",
       "<style scoped>\n",
       "    .dataframe tbody tr th:only-of-type {\n",
       "        vertical-align: middle;\n",
       "    }\n",
       "\n",
       "    .dataframe tbody tr th {\n",
       "        vertical-align: top;\n",
       "    }\n",
       "\n",
       "    .dataframe thead th {\n",
       "        text-align: right;\n",
       "    }\n",
       "</style>\n",
       "<table border=\"1\" class=\"dataframe\">\n",
       "  <thead>\n",
       "    <tr style=\"text-align: right;\">\n",
       "      <th></th>\n",
       "      <th>No</th>\n",
       "      <th>X1 transaction date</th>\n",
       "      <th>X2 house age</th>\n",
       "      <th>X3 distance to the nearest MRT station</th>\n",
       "      <th>X4 number of convenience stores</th>\n",
       "      <th>X5 latitude</th>\n",
       "      <th>X6 longitude</th>\n",
       "      <th>Y house price of unit area</th>\n",
       "    </tr>\n",
       "  </thead>\n",
       "  <tbody>\n",
       "    <tr>\n",
       "      <th>0</th>\n",
       "      <td>1</td>\n",
       "      <td>2012.917</td>\n",
       "      <td>32.0</td>\n",
       "      <td>84.87882</td>\n",
       "      <td>10</td>\n",
       "      <td>24.98298</td>\n",
       "      <td>121.54024</td>\n",
       "      <td>37.9</td>\n",
       "    </tr>\n",
       "    <tr>\n",
       "      <th>1</th>\n",
       "      <td>2</td>\n",
       "      <td>2012.917</td>\n",
       "      <td>19.5</td>\n",
       "      <td>306.59470</td>\n",
       "      <td>9</td>\n",
       "      <td>24.98034</td>\n",
       "      <td>121.53951</td>\n",
       "      <td>42.2</td>\n",
       "    </tr>\n",
       "    <tr>\n",
       "      <th>2</th>\n",
       "      <td>3</td>\n",
       "      <td>2013.583</td>\n",
       "      <td>13.3</td>\n",
       "      <td>561.98450</td>\n",
       "      <td>5</td>\n",
       "      <td>24.98746</td>\n",
       "      <td>121.54391</td>\n",
       "      <td>47.3</td>\n",
       "    </tr>\n",
       "    <tr>\n",
       "      <th>3</th>\n",
       "      <td>4</td>\n",
       "      <td>2013.500</td>\n",
       "      <td>13.3</td>\n",
       "      <td>561.98450</td>\n",
       "      <td>5</td>\n",
       "      <td>24.98746</td>\n",
       "      <td>121.54391</td>\n",
       "      <td>54.8</td>\n",
       "    </tr>\n",
       "    <tr>\n",
       "      <th>4</th>\n",
       "      <td>5</td>\n",
       "      <td>2012.833</td>\n",
       "      <td>5.0</td>\n",
       "      <td>390.56840</td>\n",
       "      <td>5</td>\n",
       "      <td>24.97937</td>\n",
       "      <td>121.54245</td>\n",
       "      <td>43.1</td>\n",
       "    </tr>\n",
       "  </tbody>\n",
       "</table>\n",
       "</div>"
      ],
      "text/plain": [
       "   No  X1 transaction date  X2 house age  \\\n",
       "0   1             2012.917          32.0   \n",
       "1   2             2012.917          19.5   \n",
       "2   3             2013.583          13.3   \n",
       "3   4             2013.500          13.3   \n",
       "4   5             2012.833           5.0   \n",
       "\n",
       "   X3 distance to the nearest MRT station  X4 number of convenience stores  \\\n",
       "0                                84.87882                               10   \n",
       "1                               306.59470                                9   \n",
       "2                               561.98450                                5   \n",
       "3                               561.98450                                5   \n",
       "4                               390.56840                                5   \n",
       "\n",
       "   X5 latitude  X6 longitude  Y house price of unit area  \n",
       "0     24.98298     121.54024                        37.9  \n",
       "1     24.98034     121.53951                        42.2  \n",
       "2     24.98746     121.54391                        47.3  \n",
       "3     24.98746     121.54391                        54.8  \n",
       "4     24.97937     121.54245                        43.1  "
      ]
     },
     "execution_count": 1,
     "metadata": {},
     "output_type": "execute_result"
    }
   ],
   "source": [
    "# Import the necessary liblaries:\n",
    "import pandas as pd\n",
    "import numpy as np\n",
    "%matplotlib inline\n",
    "import matplotlib.pyplot as plt\n",
    "from sklearn.preprocessing import StandardScaler\n",
    "from sklearn.model_selection import train_test_split, GridSearchCV, KFold\n",
    "from sklearn.ensemble import GradientBoostingRegressor\n",
    "from sklearn.tree import DecisionTreeRegressor\n",
    "from sklearn.metrics import mean_absolute_error, mean_squared_error, r2_score\n",
    "\n",
    "#Load the dataset into pandas DataFrame:\n",
    "df = pd.read_csv(\"https://archive.ics.uci.edu/static/public/477/data.csv\")\n",
    "df.head()"
   ]
  },
  {
   "cell_type": "code",
   "execution_count": 3,
   "id": "1ccaa912",
   "metadata": {},
   "outputs": [
    {
     "name": "stdout",
     "output_type": "stream",
     "text": [
      "<class 'pandas.core.frame.DataFrame'>\n",
      "Index: 413 entries, 0 to 413\n",
      "Data columns (total 8 columns):\n",
      " #   Column             Non-Null Count  Dtype  \n",
      "---  ------             --------------  -----  \n",
      " 0   No                 413 non-null    int64  \n",
      " 1   TransactionDate    413 non-null    float64\n",
      " 2   HouseAge           413 non-null    float64\n",
      " 3   DistanceToMRT      413 non-null    float64\n",
      " 4   NumberOfStores     413 non-null    int64  \n",
      " 5   Latitude           413 non-null    float64\n",
      " 6   Longitude          413 non-null    float64\n",
      " 7   HousePricePerUnit  413 non-null    float64\n",
      "dtypes: float64(6), int64(2)\n",
      "memory usage: 29.0 KB\n"
     ]
    }
   ],
   "source": [
    "#Remane the columns, remove the outlier of the target variable\n",
    "df.columns = ['No', 'TransactionDate', 'HouseAge', 'DistanceToMRT', 'NumberOfStores', 'Latitude', 'Longitude', 'HousePricePerUnit']\n",
    "df = df[df['HousePricePerUnit'] != 117.5]\n",
    "df.info()"
   ]
  },
  {
   "cell_type": "code",
   "execution_count": 4,
   "id": "8a9aa474",
   "metadata": {},
   "outputs": [],
   "source": [
    "# Preprocess the data and Define the variables\n",
    "X = df.drop(['No','HousePricePerUnit'], axis =1)\n",
    "y = df['HousePricePerUnit']"
   ]
  },
  {
   "cell_type": "code",
   "execution_count": 5,
   "id": "1280268c",
   "metadata": {},
   "outputs": [],
   "source": [
    "# Standardize the features and Split the data into training and testing sets with 80/20 ratio\n",
    "\n",
    "scaler = StandardScaler()\n",
    "X = scaler.fit_transform(X)\n",
    "\n",
    "X_train, X_test, y_train, y_test = train_test_split(X, y, test_size = 0.2, random_state = 0)"
   ]
  },
  {
   "cell_type": "markdown",
   "id": "fd256d57",
   "metadata": {},
   "source": [
    "### 1. Applying Gradient Boosting and Decision Tree Regressor without hyperparameter tuning"
   ]
  },
  {
   "cell_type": "code",
   "execution_count": 6,
   "id": "d7aa0562",
   "metadata": {},
   "outputs": [],
   "source": [
    "# Gradient Boosting\n",
    "gb = GradientBoostingRegressor()\n",
    "gb_trained = gb.fit(X_train, y_train)\n",
    "y_pred_gb = gb_trained.predict(X_test)"
   ]
  },
  {
   "cell_type": "code",
   "execution_count": 8,
   "id": "6feaa989",
   "metadata": {},
   "outputs": [
    {
     "name": "stdout",
     "output_type": "stream",
     "text": [
      "Gradient Boosting Performance:\n",
      "4.029601806559145\n",
      "26.440252435429397\n",
      "0.8212410408707613\n"
     ]
    }
   ],
   "source": [
    "# Evaluate the GB model performance\n",
    "mae_gb = mean_absolute_error(y_test, y_pred_gb)\n",
    "mse_gb = mean_squared_error(y_test, y_pred_gb)\n",
    "r2_gb = r2_score(y_test, y_pred_gb)\n",
    "\n",
    "print(\"Gradient Boosting Performance:\")\n",
    "print(mae_gb)\n",
    "print(mse_gb)\n",
    "print(r2_gb)"
   ]
  },
  {
   "cell_type": "code",
   "execution_count": 9,
   "id": "7d9aa5ec",
   "metadata": {},
   "outputs": [],
   "source": [
    "# Decision Tree Regressor\n",
    "dt = DecisionTreeRegressor()\n",
    "dt_trained = dt.fit(X_train, y_train)\n",
    "y_pred_dt = dt_trained.predict(X_test)"
   ]
  },
  {
   "cell_type": "code",
   "execution_count": 10,
   "id": "ee0c35a8",
   "metadata": {},
   "outputs": [
    {
     "name": "stdout",
     "output_type": "stream",
     "text": [
      "Decision Tree Performance:\n",
      "6.777710843373494\n",
      "95.74051204819277\n",
      "0.35271138874218055\n"
     ]
    }
   ],
   "source": [
    "# Evaluate the DT model performance\n",
    "mae_dt = mean_absolute_error(y_test, y_pred_dt)\n",
    "mse_dt = mean_squared_error(y_test, y_pred_dt)\n",
    "r2_dt = r2_score(y_test, y_pred_dt)\n",
    "\n",
    "print(\"Decision Tree Performance:\")\n",
    "print(mae_dt)\n",
    "print(mse_dt)\n",
    "print(r2_dt)"
   ]
  },
  {
   "cell_type": "markdown",
   "id": "3efc03a4",
   "metadata": {},
   "source": [
    "Gradient Boosting method has a good performance with the r2_score value at approx 0.82, while Decision Tree Regressor is bad model when apply to this data set with the r2_score is only 0.35. Hyperparameter tuning will be performed to check if the performance of these models can be optimized."
   ]
  },
  {
   "cell_type": "markdown",
   "id": "ab2cbc98",
   "metadata": {},
   "source": [
    "### 2. Applying 2 models with hyperparameters tuning."
   ]
  },
  {
   "cell_type": "markdown",
   "id": "672bcaa9",
   "metadata": {},
   "source": [
    "For Gradient Boosting, common hyperparameters include n_estimators, learning_rate, max_depth, and subsample."
   ]
  },
  {
   "cell_type": "code",
   "execution_count": 11,
   "id": "765efda4",
   "metadata": {},
   "outputs": [
    {
     "name": "stdout",
     "output_type": "stream",
     "text": [
      "Best Hyperparameters for Gradient Boosting:\n",
      "{'learning_rate': 0.1, 'max_depth': 3, 'n_estimators': 50, 'subsample': 0.8}\n"
     ]
    }
   ],
   "source": [
    "# Define the parameter grid for Gradient Boosting\n",
    "param_grid_gb = {\n",
    "    'n_estimators': [50, 100, 200],\n",
    "    'learning_rate': [0.01, 0.1, 0.2],\n",
    "    'max_depth': [3, 5, 7],\n",
    "    'subsample': [0.8, 1.0]\n",
    "}\n",
    "\n",
    "# Define the cross-validation strategy\n",
    "folds = KFold(n_splits=5, shuffle=True, random_state=42)\n",
    "\n",
    "# Create the GridSearchCV object for Gradient Boosting\n",
    "grid_search_gb = GridSearchCV(estimator=gb, param_grid=param_grid_gb, cv=folds, scoring='neg_mean_squared_error', n_jobs=-1)\n",
    "grid_search_gb.fit(X_train, y_train)\n",
    "\n",
    "# Best hyperparameters for Gradient Boosting\n",
    "best_params_gb = grid_search_gb.best_params_\n",
    "print(\"Best Hyperparameters for Gradient Boosting:\")\n",
    "print(best_params_gb)"
   ]
  },
  {
   "cell_type": "code",
   "execution_count": 12,
   "id": "53548b13",
   "metadata": {},
   "outputs": [
    {
     "name": "stdout",
     "output_type": "stream",
     "text": [
      "Gradient Boosting Performance with Best Hyperparameters:\n",
      "3.921573975665884\n",
      "25.056974685488566\n",
      "0.8305931940459222\n"
     ]
    }
   ],
   "source": [
    "# Evaluate the GB model best performance\n",
    "best_gb_model = grid_search_gb.best_estimator_\n",
    "y_pred_gb = best_gb_model.predict(X_test)\n",
    "\n",
    "mae_gb_best = mean_absolute_error(y_test, y_pred_gb)\n",
    "mse_gb_best = mean_squared_error(y_test, y_pred_gb)\n",
    "r2_gb_best = r2_score(y_test, y_pred_gb)\n",
    "\n",
    "print(\"Gradient Boosting Performance with Best Hyperparameters:\")\n",
    "print(mae_gb_best)\n",
    "print(mse_gb_best)\n",
    "print(r2_gb_best)"
   ]
  },
  {
   "cell_type": "markdown",
   "id": "144de4eb",
   "metadata": {},
   "source": [
    "For Decision Tree, common hyperparameters include max_depth, min_samples_split, and min_samples_leaf."
   ]
  },
  {
   "cell_type": "code",
   "execution_count": 13,
   "id": "2b06ccb1",
   "metadata": {},
   "outputs": [
    {
     "name": "stdout",
     "output_type": "stream",
     "text": [
      "Best Hyperparameters for Decision Tree:\n",
      "{'max_depth': 5, 'min_samples_leaf': 2, 'min_samples_split': 5}\n"
     ]
    }
   ],
   "source": [
    "# Define the parameter grid for Decision Tree\n",
    "param_grid_dt = {\n",
    "    'max_depth': [3, 5, 7, None],\n",
    "    'min_samples_split': [2, 5, 10],\n",
    "    'min_samples_leaf': [1, 2, 4]\n",
    "}\n",
    "\n",
    "# Create the GridSearchCV object for Decision Tree\n",
    "grid_search_dt = GridSearchCV(estimator=dt, param_grid=param_grid_dt, cv=folds, scoring='neg_mean_squared_error', n_jobs=-1)\n",
    "grid_search_dt.fit(X_train, y_train)\n",
    "\n",
    "# Best hyperparameters for Decision Tree\n",
    "best_params_dt = grid_search_dt.best_params_\n",
    "print(\"Best Hyperparameters for Decision Tree:\")\n",
    "print(best_params_dt)"
   ]
  },
  {
   "cell_type": "code",
   "execution_count": 14,
   "id": "ab6668fd",
   "metadata": {},
   "outputs": [
    {
     "name": "stdout",
     "output_type": "stream",
     "text": [
      "Gradient Boosting Performance with Best Hyperparameters:\n",
      "4.836254691206801\n",
      "44.62762537701078\n",
      "0.6982786801946625\n"
     ]
    }
   ],
   "source": [
    "# Evaluate the DT model best performance\n",
    "best_dt_model = grid_search_dt.best_estimator_\n",
    "y_pred_dt = best_dt_model.predict(X_test)\n",
    "\n",
    "mae_dt_best = mean_absolute_error(y_test, y_pred_dt)\n",
    "mse_dt_best = mean_squared_error(y_test, y_pred_dt)\n",
    "r2_dt_best = r2_score(y_test, y_pred_dt)\n",
    "\n",
    "print(\"Gradient Boosting Performance with Best Hyperparameters:\")\n",
    "print(mae_dt_best)\n",
    "print(mse_dt_best)\n",
    "print(r2_dt_best)"
   ]
  },
  {
   "cell_type": "markdown",
   "id": "f93eaa27",
   "metadata": {},
   "source": [
    "### 3. Compare these 2 model before and after Hyperparameters tunning"
   ]
  },
  {
   "cell_type": "code",
   "execution_count": 19,
   "id": "7c565e9a",
   "metadata": {},
   "outputs": [
    {
     "data": {
      "image/png": "[encoded data removed]",
      "text/plain": [
       "<Figure size 1000x500 with 1 Axes>"
      ]
     },
     "metadata": {},
     "output_type": "display_data"
    },
    {
     "data": {
      "image/png": "[encoded data removed]",
      "text/plain": [
       "<Figure size 1000x500 with 1 Axes>"
      ]
     },
     "metadata": {},
     "output_type": "display_data"
    }
   ],
   "source": [
    "# Metrics for each model before and after tuning\n",
    "metrics = {\n",
    "    'Gradient Boosting': {'Before': [mae_gb, mse_gb, r2_gb], 'After': [mae_gb_best, mse_gb_best, r2_gb_best]},\n",
    "    'Decision Tree': {'Before': [mae_dt, mse_dt, r2_dt], 'After': [mae_dt_best, mse_dt_best, r2_dt_best]}\n",
    "}\n",
    "\n",
    "# Setting the positions and width for the bars\n",
    "pos = np.arange(len(metrics['Gradient Boosting']['Before'])) \n",
    "width = 0.35 \n",
    "\n",
    "# Plotting the bars\n",
    "for i, model in enumerate(metrics.keys()):\n",
    "    fig, ax = plt.subplots(figsize=(10,5))\n",
    "\n",
    "    # Create a bar with before-tuning data\n",
    "    rects1 = ax.bar(pos - width/2, metrics[model]['Before'], width, label='Before') \n",
    "\n",
    "    # Create a bar with after-tuning data\n",
    "    rects2 = ax.bar(pos + width/2, metrics[model]['After'], width, label='After') \n",
    "\n",
    "    # Setting the y axis label\n",
    "    ax.set_ylabel('Score')\n",
    "\n",
    "    # Setting the chart's title, position, labels\n",
    "    ax.set_title(model + ' Comparison')\n",
    "    ax.set_xticks(pos)\n",
    "    ax.set_xticklabels(['MAE', 'MSE', 'R2_score'])\n",
    "    ax.legend()"
   ]
  },
  {
   "cell_type": "markdown",
   "id": "a18c2f04",
   "metadata": {},
   "source": [
    "After tuning, Decision Tree model showed a significant improvement in performance, with the r2 score nearly doubling from 0.35 to 0.698. Gradient Boosting still a good model for this data set while showed a slight improvement in performance, with the r2 score increasing from 0.82 to 0.83"
   ]
  },
  {
   "cell_type": "code",
   "execution_count": null,
   "id": "7d8dd8d7",
   "metadata": {},
   "outputs": [],
   "source": []
  }
 ],
 "metadata": {
  "kernelspec": {
   "display_name": "Python [conda env:base] *",
   "language": "python",
   "name": "conda-base-py"
  },
  "language_info": {
   "codemirror_mode": {
    "name": "ipython",
    "version": 3
   },
   "file_extension": ".py",
   "mimetype": "text/x-python",
   "name": "python",
   "nbconvert_exporter": "python",
   "pygments_lexer": "ipython3",
   "version": "3.11.5"
  }
 },
 "nbformat": 4,
 "nbformat_minor": 5
}
